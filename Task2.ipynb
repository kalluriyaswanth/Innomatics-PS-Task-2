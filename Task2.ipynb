{
 "cells": [
  {
   "cell_type": "code",
   "execution_count": null,
   "id": "6519e34e",
   "metadata": {},
   "outputs": [],
   "source": [
    "if __name__ == '__main__':\n",
    "    x = int(input())\n",
    "    y = int(input())\n",
    "    z = int(input())\n",
    "    n = int(input())\n",
    "    lis=[]\n",
    "    for i in range(x+1):\n",
    "     for j in range(y+1):\n",
    "      for k in range(z+1):\n",
    "       if (i+j+k !=n):\n",
    "         lis.append([i,j,k])\n",
    "    print(lis)     \n"
   ]
  },
  {
   "cell_type": "code",
   "execution_count": null,
   "id": "12751fa6",
   "metadata": {},
   "outputs": [],
   "source": [
    "if __name__ == '__main__':\n",
    "    n = int(input())\n",
    "    arr = list(map(int, input().split()))\n",
    "    arr.sort()\n",
    "    amma=arr[n-1]\n",
    "    while amma in arr:\n",
    "        arr.remove(amma)\n",
    "    nanna=len(arr)\n",
    "    print(arr[nanna-1])    \n",
    "      \n",
    "    \n"
   ]
  },
  {
   "cell_type": "code",
   "execution_count": null,
   "id": "9dc2122a",
   "metadata": {},
   "outputs": [],
   "source": [
    "if __name__ == '__main__':\n",
    "    list1=[]\n",
    "    sublist=[]\n",
    "    amma=[]\n",
    "    ans=[]\n",
    "    for _ in range(int(input())):\n",
    "        name = input()\n",
    "        score = float(input())\n",
    "        sublist.append(name)\n",
    "        sublist.append(score)\n",
    "        amma.append(score)\n",
    "        list1.append(sublist)\n",
    "        sublist=[]\n",
    "    nanna=list(set(amma))\n",
    "    nanna.sort()\n",
    "    annayya=nanna[1]\n",
    "    for i in range(len(list1)):\n",
    "        if list1[i][1]==annayya:\n",
    "          ans.append(list1[i][0])\n",
    "    ans.sort()\n",
    "    for i in range(len(ans)):\n",
    "        print(ans[i])\n",
    "         \n",
    "        \n"
   ]
  },
  {
   "cell_type": "code",
   "execution_count": null,
   "id": "b2a3be3c",
   "metadata": {},
   "outputs": [],
   "source": [
    "if __name__ == '__main__':\n",
    "    n = int(input())\n",
    "    student_marks = {}\n",
    "    for _ in range(n):\n",
    "        name, *line = input().split()\n",
    "        scores = list(map(float, line))\n",
    "        student_marks[name] = scores\n",
    "    query_name = input() \n",
    "    list1=(student_marks[query_name])\n",
    "    a=sum(list1)/3\n",
    "    print(\"%.2f\" %a)   \n",
    "        \n",
    "     \n"
   ]
  },
  {
   "cell_type": "code",
   "execution_count": null,
   "id": "8852dc54",
   "metadata": {},
   "outputs": [],
   "source": [
    "if __name__ == '__main__':\n",
    "    N = int(input())\n",
    "    lists = []\n",
    "\n",
    "    commands_list = {\n",
    "        \"insert\": lambda x: lists.insert(x[0], x[1]),\n",
    "        \"print\": lambda x: print(lists),\n",
    "        \"remove\": lambda x: lists.remove(x[0]),\n",
    "        \"append\": lambda x: lists.append(x[0]),\n",
    "        \"sort\": lambda x: lists.sort(),\n",
    "        \"pop\": lambda x: lists.pop(),\n",
    "        \"reverse\": lambda x: lists.reverse(),\n",
    "    }\n",
    "\n",
    "    for _ in range(N):\n",
    "        string, *el = input().split()\n",
    "        commands_list[string](list(map(int, el)))\n"
   ]
  },
  {
   "cell_type": "code",
   "execution_count": null,
   "id": "a4b315e3",
   "metadata": {},
   "outputs": [],
   "source": [
    "if __name__ == '__main__':\n",
    "    N = int(input())\n",
    "    lists = []\n",
    "\n",
    "    commands_list = {\n",
    "        \"insert\": lambda x: lists.insert(x[0], x[1]),\n",
    "        \"print\": lambda x: print(lists),\n",
    "        \"remove\": lambda x: lists.remove(x[0]),\n",
    "        \"append\": lambda x: lists.append(x[0]),\n",
    "        \"sort\": lambda x: lists.sort(),\n",
    "        \"pop\": lambda x: lists.pop(),\n",
    "        \"reverse\": lambda x: lists.reverse(),\n",
    "    }\n",
    "\n",
    "    for _ in range(N):\n",
    "        string, *el = input().split()\n",
    "        commands_list[string](list(map(int, el)))\n"
   ]
  },
  {
   "cell_type": "code",
   "execution_count": null,
   "id": "37bf0bcb",
   "metadata": {},
   "outputs": [],
   "source": [
    "def average(array):\n",
    "    amma=set(arr)\n",
    "    nanna=list(amma)\n",
    "    sum=0\n",
    "    for i in range(len(nanna)):\n",
    "        sum+=nanna[i]\n",
    "    avg=float(sum/len(nanna))    \n",
    "    return avg   \n",
    "    \n",
    "    # your code goes here\n",
    "\n"
   ]
  },
  {
   "cell_type": "code",
   "execution_count": null,
   "id": "e720942d",
   "metadata": {},
   "outputs": [],
   "source": [
    "# Enter your code here. Read input from STDIN. Print output to STDOUT\n",
    "n,m = map(int, input().split())\n",
    "amma=list(map(int,input().split()))\n",
    "nanna=set(list(map(int,input().split())))\n",
    "annayya=set(list(map(int,input().split())))\n",
    "happy=0\n",
    "for i in range(n):\n",
    "  if (amma[i] in nanna)==True:\n",
    "    happy+=1\n",
    "  if (amma[i] in annayya)==True:\n",
    "    happy-=1\n",
    "print(happy)\n",
    "  \n"
   ]
  },
  {
   "cell_type": "code",
   "execution_count": null,
   "id": "2a499703",
   "metadata": {},
   "outputs": [],
   "source": [
    "# Enter your code here. Read input from STDIN. Print output to STDOUT\n",
    "amma=int(input())\n",
    "amma1=set(list(map(int,input().split())))\n",
    "nanna=int(input())\n",
    "nanna1=set(list(map(int,input().split())))\n",
    "anna=list(amma1.symmetric_difference(nanna1))\n",
    "anna.sort()\n",
    "print(*anna,sep='\\n')\n",
    "\n"
   ]
  },
  {
   "cell_type": "code",
   "execution_count": null,
   "id": "918c2606",
   "metadata": {},
   "outputs": [],
   "source": [
    "# Enter your code here. Read input from STDIN. Print output to STDOUT\n",
    "n=int(input())\n",
    "amma=[]\n",
    "for i in range(n):\n",
    "    line=input()\n",
    "    amma.append(line)\n",
    "nanna=set(amma)\n",
    "print(len(nanna))   \n"
   ]
  },
  {
   "cell_type": "code",
   "execution_count": null,
   "id": "049d6297",
   "metadata": {},
   "outputs": [],
   "source": [
    "n = int(input())\n",
    "s = set(map(int, input().split()))\n",
    "n1= int(input())\n",
    "for i in range(n1):\n",
    "    amma=input().split()\n",
    "    if(amma[0]==\"pop\"):\n",
    "       s.pop()\n",
    "    if(amma[0]==\"remove\"):\n",
    "        s.remove(int(amma[1]))\n",
    "    if(amma[0]==\"discard\"):\n",
    "        s.discard(int(amma[1]))\n",
    "print(sum(s))               \n",
    "      \n",
    "  \n"
   ]
  },
  {
   "cell_type": "code",
   "execution_count": null,
   "id": "4aef3f3c",
   "metadata": {},
   "outputs": [],
   "source": [
    "# Enter your code here. Read input from STDIN. Print output to STDOUT\n",
    "n=int(input())\n",
    "amma=set(map(int,input().split()))\n",
    "b=int(input())\n",
    "nanna=set(map(int,input().split()))\n",
    "print(len(amma.union(nanna)))\n"
   ]
  },
  {
   "cell_type": "code",
   "execution_count": null,
   "id": "8d9f2265",
   "metadata": {},
   "outputs": [],
   "source": [
    "# Enter your code here. Read input from STDIN. Print output to STDOUT\n",
    "n=int(input())\n",
    "amma=set(map(int,input().split()))\n",
    "b=int(input())\n",
    "nanna=set(map(int,input().split()))\n",
    "print(len(amma.intersection(nanna)))\n"
   ]
  },
  {
   "cell_type": "code",
   "execution_count": null,
   "id": "98147000",
   "metadata": {},
   "outputs": [],
   "source": [
    "# Enter your code here. Read input from STDIN. Print output to STDOUT\n",
    "n=int(input())\n",
    "amma=set(map(int,input().split()))\n",
    "b=int(input())\n",
    "nanna=set(map(int,input().split()))\n",
    "print(len(amma.difference(nanna)))\n"
   ]
  },
  {
   "cell_type": "code",
   "execution_count": null,
   "id": "cddf375e",
   "metadata": {},
   "outputs": [],
   "source": [
    "# Enter your code here. Read input from STDIN. Print output to STDOUT\n",
    "n=int(input())\n",
    "amma=set(map(int,input().split()))\n",
    "b=int(input())\n",
    "nanna=set(map(int,input().split()))\n",
    "print(len(amma.symmetric_difference(nanna)))\n"
   ]
  },
  {
   "cell_type": "code",
   "execution_count": null,
   "id": "f1506387",
   "metadata": {},
   "outputs": [],
   "source": [
    "# Enter your code here. Read input from STDIN. Print output to STDOUT\n",
    "n=int(input())\n",
    "amma=set(map(int,input().split()))\n",
    "n1=int(input())\n",
    "for i in range(n1):\n",
    "    string,el=input().split()\n",
    "    nanna=set(map(int,input().split()))\n",
    "    if(string==\"intersection_update\"):\n",
    "        amma.intersection_update(nanna)\n",
    "    elif(string==\"update\"):\n",
    "         amma.update(nanna)  \n",
    "    elif(string==\"symmetric_difference_update\"):\n",
    "        amma.symmetric_difference_update(nanna)\n",
    "    elif(string==\"difference_update\"):\n",
    "        amma.difference_update(nanna) \n",
    "print(sum(amma))            \n",
    "        \n",
    "    \n",
    " \n",
    "\n",
    "    \n",
    "    \n",
    "    \n",
    "  \n",
    "\n"
   ]
  },
  {
   "cell_type": "code",
   "execution_count": null,
   "id": "ea95a0a4",
   "metadata": {},
   "outputs": [],
   "source": [
    "# Enter your code here. Read input from STDIN. Print output to STDOUT\n",
    "from collections import Counter\n",
    "k=int(input())\n",
    "amma=list(map(int,input().split()))\n",
    "nanna=Counter(amma)\n",
    "for i in nanna:\n",
    "    if(nanna[i]==1):\n",
    "        print(i)\n",
    "        break\n",
    "    \n",
    "\n",
    "\n",
    "    \n"
   ]
  },
  {
   "cell_type": "code",
   "execution_count": null,
   "id": "94984027",
   "metadata": {},
   "outputs": [],
   "source": [
    "# Enter your code here. Read input from STDIN. Print output to STDOUT\n",
    "t=int(input())\n",
    "while(t):\n",
    "    amma=int(input())\n",
    "    amma1=set(map(int,input().split()))\n",
    "    nanna=int(input())\n",
    "    nanna1=set(map(int,input().split()))\n",
    "    print(amma1.issubset(nanna1))\n",
    "    t-=1\n",
    "    \n"
   ]
  },
  {
   "cell_type": "code",
   "execution_count": null,
   "id": "a613c75d",
   "metadata": {},
   "outputs": [],
   "source": [
    "# Enter your code here. Read input from STDIN. Print output to STDOUT\n",
    "amma=set(map(int,input().split()))\n",
    "n=int(input())\n",
    "amma1=True\n",
    "for  i in range(n):\n",
    "    nanna=set(map(int,input().split()))\n",
    "    if(amma.issuperset(nanna)==False):\n",
    "        amma1=False\n",
    "        break\n",
    "print(amma1)\n",
    "            \n",
    "        \n",
    "    \n",
    "\n"
   ]
  }
 ],
 "metadata": {
  "kernelspec": {
   "display_name": "Python 3 (ipykernel)",
   "language": "python",
   "name": "python3"
  },
  "language_info": {
   "codemirror_mode": {
    "name": "ipython",
    "version": 3
   },
   "file_extension": ".py",
   "mimetype": "text/x-python",
   "name": "python",
   "nbconvert_exporter": "python",
   "pygments_lexer": "ipython3",
   "version": "3.9.12"
  }
 },
 "nbformat": 4,
 "nbformat_minor": 5
}
